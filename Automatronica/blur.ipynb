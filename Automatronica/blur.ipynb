{
 "cells": [
  {
   "cell_type": "markdown",
   "metadata": {},
   "source": [
    "# Filtros espaciais para suavização\n",
    "\n",
    "Conforme visto anteriormente, algumas transformações são aplicadas diretamente em cada pixel. Por outro lado, existem transformações que são aplicadas a regiões da imagem, por meio da operação de convolução de filtros.\n",
    "\n",
    "Uma das operaçoes básicas de processamento de imagens é a operação de suavização (do inglês *smoothing* ou *blurring*)\n",
    "\n",
    "### Filtro homogêneo\n",
    "\n",
    "O filtro homogêneo é do tipo\n",
    "\n",
    "$$ K = \\frac{1}{N_{linhas} N_{colunas}}\n",
    "    \\begin{bmatrix}\n",
    "        1 & 1 & 1 & \\cdots & 1\\\\\n",
    "        1 & 1 & 1 & \\cdots & 1\\\\\n",
    "        \\vdots & \\vdots & \\vdots &\\ddots & \\vdots\\\\ \n",
    "        1 & 1 & 1 & \\cdots & 1\\\\\n",
    "    \\end{bmatrix}\n",
    "$$\n",
    "\n",
    "### Filtro gaussiano\n",
    "\n",
    "Segue distribuição normal (gaussiana). É um filtro espacial em que maior ênfase é dada ao elemento central do filtro. \n",
    "\n",
    "### Filtro da mediana\n",
    "\n",
    "Filtra pela mediana. Se uma região, por exemplo, apresenta os seguintes elementos:\n",
    "\n",
    "$$ \\begin{bmatrix}\n",
    "10 & 20 & 15 \\\\\n",
    "15 & 15 & 16 \\\\\n",
    "10 & 15 & 20 \\\\\n",
    "\\end{bmatrix}\n",
    "$$\n",
    "\n",
    "Para encontrar a mediana devemos colocar os elementos em ordem crescente: (10,10,15,15,15,15,16,20,20). Como a matriz apresenta 9 elementos a mediana será o quinto valor, em que metade dos elementos está abaixo e metade acima. No caso a mediana vale 15."
   ]
  },
  {
   "cell_type": "code",
   "execution_count": 1,
   "metadata": {},
   "outputs": [],
   "source": [
    "# Importando pacotes necessários\n",
    "import cv2\n",
    "import numpy as np\n",
    "\n",
    "# Lendo imagem \n",
    "im = cv2.imread(\"standard_test_images/cameraman.tif\")"
   ]
  },
  {
   "cell_type": "code",
   "execution_count": 3,
   "metadata": {},
   "outputs": [],
   "source": [
    "# Aplicando filtro homogêneo\n",
    "imblur1 = cv2.blur(im, (7,7))\n",
    "\n",
    "# Aplicando filtro Gaussiano\n",
    "imblur2 = cv2.GaussianBlur(im, (7,7), 0)\n",
    "\n",
    "# Aplicando filtro da mediana\n",
    "imblur3 = cv2.medianBlur(im, 7)\n",
    "\n",
    "# Mostrando imagem original e imagem suavizada\n",
    "cv2.imshow(\"Original\", im)\n",
    "cv2.imshow(\"Homogeneo\", imblur1)\n",
    "cv2.imshow(\"Gaussiano\",  imblur2)\n",
    "cv2.imshow(\"Mediana\", imblur3)\n",
    "cv2.waitKey(0)\n",
    "cv2.destroyAllWindows()\n",
    "\n",
    "# Testar filtros com diferentes dimensões"
   ]
  },
  {
   "cell_type": "markdown",
   "metadata": {},
   "source": [
    "### Caso com ruído do tipo salt and pepper"
   ]
  },
  {
   "cell_type": "code",
   "execution_count": 9,
   "metadata": {},
   "outputs": [],
   "source": [
    "im_noisy = cv2.imread(\"other_pic/cameraman_sp.tif\")\n",
    "\n",
    "# Filtro homogêneo\n",
    "imblur_sp1 = cv2.blur(im_noisy, (3,3))\n",
    "\n",
    "# Filtro Gaussiano\n",
    "imblur_sp2 = cv2.GaussianBlur(im_noisy, (3,3), 0)\n",
    "\n",
    "# Filtro Mediana\n",
    "imblur_sp3 = cv2.medianBlur(im_noisy, 3)\n",
    "\n",
    "\n",
    "# MOstrando imagem original e resultado\n",
    "cv2.imshow(\"Original\", im_noisy)\n",
    "cv2.imshow(\"Homogeneo\", imblur_sp1)\n",
    "cv2.imshow(\"Gaussiano\", imblur_sp2)\n",
    "cv2.imshow(\"Mediana\", imblur_sp3)\n",
    "cv2.waitKey(0)\n",
    "cv2.destroyAllWindows()"
   ]
  },
  {
   "cell_type": "code",
   "execution_count": null,
   "metadata": {},
   "outputs": [],
   "source": []
  }
 ],
 "metadata": {
  "kernelspec": {
   "display_name": "Python 3",
   "language": "python",
   "name": "python3"
  },
  "language_info": {
   "codemirror_mode": {
    "name": "ipython",
    "version": 3
   },
   "file_extension": ".py",
   "mimetype": "text/x-python",
   "name": "python",
   "nbconvert_exporter": "python",
   "pygments_lexer": "ipython3",
   "version": "3.7.3"
  }
 },
 "nbformat": 4,
 "nbformat_minor": 2
}
