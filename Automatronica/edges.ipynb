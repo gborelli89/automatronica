{
 "cells": [
  {
   "cell_type": "markdown",
   "metadata": {},
   "source": [
    "# Detecção de bordas\n",
    "\n",
    "A detecção de bordas é feita por meio de derivadas. Os filtros espaciais utilizados para determinação de gradientes são do tipo\n",
    "\n",
    "$$ G_x = \\begin{bmatrix}\n",
    "-1 & 0 & 1 \\\\\n",
    "-2 & 0 & 2 \\\\\n",
    "-1 & 0 & 1 \\\\\n",
    "\\end{bmatrix}  \\qquad\n",
    "G_y = \\begin{bmatrix}\n",
    "-1 & -2 & -1 \\\\\n",
    "0 & 0 & 0 \\\\\n",
    "1 & 2 & 1 \\\\\n",
    "\\end{bmatrix}\n",
    "$$\n",
    "\n",
    "As duas matrizes acima são utilizadas para determinação dos gradientes em x e y, utilizado no algoritmo de Sobel para determinação da magnitude e da direção do vetor gradiente em imagens digitais\n",
    "\n",
    "Outro filtro que costuma ser utilizado é o Laplaciano. Lembrando que o Laplaciano é definido como\n",
    "\n",
    "$$ \\nabla^2f(x,y) = \\frac{\\partial^2f}{\\partial x^2} + \\frac{\\partial^2f}{\\partial y^2} $$\n",
    "\n",
    "Que em diferenças finitas é dado por\n",
    "\n",
    "$$ \\nabla^2f_{i,j} = 4f_{i,j} - \\left[f_{(i+1),j} + f_{(i-1),j} + f_{i,(j+1)} + f_{i,(j-1)}\\right] $$\n",
    "\n",
    "ou seja\n",
    "\n",
    "$$ L = \\begin{bmatrix}\n",
    "0 & -1 & 0 \\\\\n",
    "-1 & 4 & -1 \\\\\n",
    "0 & -1 & 0 \\\\\n",
    "\\end{bmatrix}\n",
    "$$"
   ]
  },
  {
   "cell_type": "code",
   "execution_count": 1,
   "metadata": {},
   "outputs": [],
   "source": [
    "# Carregando os pacotes necessários\n",
    "import numpy as np\n",
    "import cv2"
   ]
  },
  {
   "cell_type": "code",
   "execution_count": 9,
   "metadata": {},
   "outputs": [],
   "source": [
    "# Lendo imagem\n",
    "im = cv2.imread(\"other_pic/im1.jpg\", 0)\n",
    "\n",
    "cv2.imshow(\"Imagem\", im)\n",
    "cv2.waitKey(0)\n",
    "cv2.destroyAllWindows()"
   ]
  },
  {
   "cell_type": "code",
   "execution_count": 17,
   "metadata": {},
   "outputs": [],
   "source": [
    "# Laplaciano\n",
    "laplacian = cv2.Laplacian(im, cv2.CV_64F, ksize=3)\n",
    "\n",
    "# Sobel em x\n",
    "sobelx = cv2.Sobel(im, cv2.CV_64F, 1, 0, ksize=-1)\n",
    "\n",
    "# Sobel em y\n",
    "sobely = cv2.Sobel(im, cv2.CV_64F, 0, 1, ksize=-1)\n",
    "\n",
    "# Sobel bidirecional\n",
    "sobel = cv2.Sobel(im, cv2.CV_64F, 1, 1, ksize=3)\n",
    "\n",
    "\n",
    "cv2.imshow(\"Laplaciano\", laplacian)\n",
    "cv2.imshow(\"Sobel x\", sobelx)\n",
    "cv2.imshow(\"Sobel y\", sobely)\n",
    "cv2.imshow(\"Sobel\", sobel)\n",
    "cv2.waitKey(0)\n",
    "cv2.destroyAllWindows()"
   ]
  },
  {
   "cell_type": "markdown",
   "metadata": {},
   "source": [
    "## Algoritmo de Canny\n",
    "\n",
    "O algoritmo de Canny utiliza os filtros vistos anteriormente referentes ao algoritmo de Sobel para o cálculo do módulo e da direção do vetor gradiente.\n",
    "\n",
    "Dois limiares devem ser fornecidos, um limiar superior e um inferior. Caso a magnitude do vetor gradiente ultrapasse o limiar superior, a região em análise é considerada uma borda. Caso o gradiente fique entre os dois limiares, o algoritmo irá analisar a vizinhança. A região só será considerada de borda caso seja vizinha de outra borda."
   ]
  },
  {
   "cell_type": "code",
   "execution_count": 24,
   "metadata": {},
   "outputs": [],
   "source": [
    "# Criando Trackbar\n",
    "def nothing(x):\n",
    "    pass\n",
    "\n",
    "windowName = \"Canny\"\n",
    "cv2.namedWindow(windowName)\n",
    "\n",
    "cv2.createTrackbar(\"Upper\", windowName, 0, 255, nothing)\n",
    "cv2.createTrackbar(\"Lower\", windowName, 0, 255, nothing)\n",
    "\n",
    "while(1):\n",
    "    \n",
    "    upper = cv2.getTrackbarPos(\"Upper\", windowName)\n",
    "    lower = cv2.getTrackbarPos(\"Lower\", windowName)\n",
    "    \n",
    "    edge = cv2.Canny(im, upper, lower)\n",
    "    \n",
    "    cv2.imshow(windowName, edge)\n",
    "    \n",
    "    k = cv2.waitKey(1)\n",
    "    if k ==27:\n",
    "        break\n",
    "\n",
    "cv2.destroyAllWindows()"
   ]
  },
  {
   "cell_type": "code",
   "execution_count": null,
   "metadata": {},
   "outputs": [],
   "source": []
  }
 ],
 "metadata": {
  "kernelspec": {
   "display_name": "Python 3",
   "language": "python",
   "name": "python3"
  },
  "language_info": {
   "codemirror_mode": {
    "name": "ipython",
    "version": 3
   },
   "file_extension": ".py",
   "mimetype": "text/x-python",
   "name": "python",
   "nbconvert_exporter": "python",
   "pygments_lexer": "ipython3",
   "version": "3.6.8"
  }
 },
 "nbformat": 4,
 "nbformat_minor": 2
}
