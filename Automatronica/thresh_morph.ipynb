{
 "cells": [
  {
   "cell_type": "markdown",
   "metadata": {},
   "source": [
    "# Binarização e transformações morfológicas\n",
    "\n",
    "## Binarização\n",
    "\n",
    "A ideia de bizarização é simples e deve ser aplicada a imagens em tons de cinza. Consiste em escolher um valor limiar. Pixels com tom de cinza acima desse valor serão considerados brancos e pixels com tons de cinza abaixo desse valor serão considerados pretos.\n",
    "\n",
    "Um valor limiar para toda a imagem pode não ser o adequado devido, por exemplo, à presença de sombras. Neste caso pode-se utilizar um algoritmo adaptativo, em que é calculado um valor limiar para cada região (baseado na média aritmética menos uma constante ou na média ponderada por uma gaussiana menos uma constante)"
   ]
  },
  {
   "cell_type": "code",
   "execution_count": 1,
   "metadata": {},
   "outputs": [],
   "source": [
    "# Carregando os pacotes necessários\n",
    "import numpy as np\n",
    "import cv2"
   ]
  },
  {
   "cell_type": "code",
   "execution_count": 27,
   "metadata": {},
   "outputs": [],
   "source": [
    "# Carregando imagem e transformando em tons de cinza\n",
    "im = cv2.imread(\"other_pic/digits.png\", cv2.IMREAD_GRAYSCALE)\n",
    "\n",
    "cv2.imshow(\"Grayscale\", im)\n",
    "cv2.waitKey(0)\n",
    "cv2.destroyAllWindows()"
   ]
  },
  {
   "cell_type": "code",
   "execution_count": 30,
   "metadata": {},
   "outputs": [],
   "source": [
    "# Aplicando binarização simples\n",
    "_,thr1 = cv2.threshold(im, 50, 255, cv2.THRESH_BINARY)\n",
    "\n",
    "# Aplicando binarizarização adaptativa\n",
    "thr2 = cv2.adaptiveThreshold(im, 255, cv2.ADAPTIVE_THRESH_MEAN_C, cv2.THRESH_BINARY, 51,2)\n",
    "thr3 = cv2.adaptiveThreshold(im, 255, cv2.ADAPTIVE_THRESH_GAUSSIAN_C, cv2.THRESH_BINARY, 51, 2)\n",
    "\n",
    "cv2.imshow(\"Binarizacao Simples\", thr1)\n",
    "cv2.imshow(\"Adaptativo Media\", thr2)\n",
    "cv2.imshow(\"Adaptativo Gaussiana\", thr3)\n",
    "cv2.waitKey(0)\n",
    "cv2.destroyAllWindows()"
   ]
  },
  {
   "cell_type": "markdown",
   "metadata": {},
   "source": [
    "## Transformações morfológicas\n",
    "\n",
    "As transformações morfológicas são erosão e dilatação. Tais transformações são realizadas por meio de um kernel pré determinado. \n",
    "\n",
    "As transformações de erosão têm o objetivo de erodir as partes brancas da imagem binária, ao passo que as transformações de dilatação têm o objetivo de dilatar. Tais operações costumam ser empregadas em conjunto. A operação de fechamento consiste na aplicação de dilatação seguida de erosão, com o objetivo de eliminar vazios internos (na região branca). A operação de abertura, por sua vez, faz justamente o inverso, aplicando-se erosão seguida de dilatação."
   ]
  },
  {
   "cell_type": "code",
   "execution_count": 35,
   "metadata": {},
   "outputs": [],
   "source": [
    "# Kernel aplicado\n",
    "kernel = np.ones((3,3), np.uint8)\n",
    "\n",
    "# Criando trackbar\n",
    "def nothing(x):\n",
    "    pass\n",
    "\n",
    "windowName = \"Image\"\n",
    "cv2.namedWindow(windowName)\n",
    "cv2.createTrackbar(\"Erosion\", windowName, 0, 20, nothing)\n",
    "cv2.createTrackbar(\"Dilation\", windowName, 0, 20, nothing)\n",
    "cv2.createTrackbar(\"Erosion2\", windowName, 0, 20, nothing)\n",
    "\n",
    "while(1):\n",
    "    n_erode = cv2.getTrackbarPos(\"Erosion\", windowName)\n",
    "    n_dilation = cv2.getTrackbarPos(\"Dilation\", windowName)\n",
    "    n_erode2 = cv2.getTrackbarPos(\"Erosion2\", windowName)\n",
    "    \n",
    "    thr = cv2.adaptiveThreshold(im, 255, cv2.ADAPTIVE_THRESH_MEAN_C, cv2.THRESH_BINARY, 51,2)\n",
    "    erode = cv2.erode(thr, kernel, iterations=n_erode)\n",
    "    dil = cv2.dilate(erode, kernel, iterations=n_dilation)\n",
    "    erode2 = cv2.erode(dil, kernel, iterations=n_erode2)\n",
    "    \n",
    "    cv2.imshow(windowName, erode2)\n",
    "    k = cv2.waitKey(1)\n",
    "    if k == 27:\n",
    "        break\n",
    "            \n",
    "cv2.destroyAllWindows()"
   ]
  },
  {
   "cell_type": "code",
   "execution_count": null,
   "metadata": {},
   "outputs": [],
   "source": []
  }
 ],
 "metadata": {
  "kernelspec": {
   "display_name": "Python 3",
   "language": "python",
   "name": "python3"
  },
  "language_info": {
   "codemirror_mode": {
    "name": "ipython",
    "version": 3
   },
   "file_extension": ".py",
   "mimetype": "text/x-python",
   "name": "python",
   "nbconvert_exporter": "python",
   "pygments_lexer": "ipython3",
   "version": "3.6.8"
  }
 },
 "nbformat": 4,
 "nbformat_minor": 2
}
