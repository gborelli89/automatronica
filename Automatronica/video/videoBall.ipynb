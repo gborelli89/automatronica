{
 "cells": [
  {
   "cell_type": "markdown",
   "metadata": {},
   "source": [
    "# Identificação em tempo real de objeto pela cor\n",
    "\n",
    "### Carregando os pacotes necessários"
   ]
  },
  {
   "cell_type": "code",
   "execution_count": 1,
   "metadata": {},
   "outputs": [],
   "source": [
    "import numpy as np\n",
    "import cv2"
   ]
  },
  {
   "cell_type": "markdown",
   "metadata": {},
   "source": [
    "### Captura do vídeo para encontrar o intervalo de cores"
   ]
  },
  {
   "cell_type": "code",
   "execution_count": 6,
   "metadata": {},
   "outputs": [],
   "source": [
    "# O zero corresponde à câmera selecionada\n",
    "cap = cv2.VideoCapture(0)\n",
    "\n",
    "def nothing(x):\n",
    "    pass\n",
    "\n",
    "# Criar trackbar\n",
    "windowName = \"Imagem\"\n",
    "cv2.namedWindow(windowName)\n",
    "cv2.createTrackbar(\"lowerH\", windowName, 0, 255, nothing)\n",
    "cv2.createTrackbar(\"lowerS\", windowName, 0, 255, nothing)\n",
    "cv2.createTrackbar(\"lowerV\", windowName, 0, 255, nothing)\n",
    "cv2.createTrackbar(\"upperH\", windowName, 255, 255, nothing)\n",
    "cv2.createTrackbar(\"upperS\", windowName, 255, 255, nothing)\n",
    "cv2.createTrackbar(\"upperV\", windowName, 255, 255, nothing)\n",
    "\n",
    "while(1):\n",
    "    _, frame = cap.read()\n",
    "    hsv = cv2.cvtColor(frame, cv2.COLOR_BGR2HSV)\n",
    "    \n",
    "    lH = cv2.getTrackbarPos(\"lowerH\", windowName)\n",
    "    lS = cv2.getTrackbarPos(\"lowerS\", windowName)\n",
    "    lV = cv2.getTrackbarPos(\"lowerV\", windowName)\n",
    "    lower_val = np.array([lH,lS,lV])\n",
    "    \n",
    "    uH = cv2.getTrackbarPos(\"upperH\", windowName)\n",
    "    uS = cv2.getTrackbarPos(\"upperS\", windowName)\n",
    "    uV = cv2.getTrackbarPos(\"upperV\", windowName)\n",
    "    upper_val = np.array([uH,uS,uV])\n",
    "    \n",
    "    mask = cv2.inRange(hsv, lower_val, upper_val)\n",
    "    hsvFilt = cv2.bitwise_and(frame, frame, mask=mask)\n",
    "    \n",
    "    cv2.imshow(windowName, frame)\n",
    "    cv2.imshow(\"Result\", hsvFilt)\n",
    "    \n",
    "    k = cv2.waitKey(5) & 0xFF\n",
    "    if k == 27:\n",
    "        break\n",
    "\n",
    "cv2.destroyAllWindows()\n",
    "cap.release()"
   ]
  },
  {
   "cell_type": "markdown",
   "metadata": {},
   "source": [
    "### Encontrando a circunferência"
   ]
  },
  {
   "cell_type": "code",
   "execution_count": 7,
   "metadata": {},
   "outputs": [],
   "source": [
    "cap = cv2.VideoCapture(0)\n",
    "\n",
    "while(1):\n",
    "    _, frame = cap.read()\n",
    "    hsv = cv2.cvtColor(frame, cv2.COLOR_BGR2HSV)\n",
    "    \n",
    "    # Valores determinados anteriormente\n",
    "    lower_val = np.array([20,110,0])\n",
    "    upper_val = np.array([40,255,255])\n",
    "    \n",
    "    mask = cv2.inRange(hsv, lower_val, upper_val)\n",
    "    \n",
    "# Descomentar caso seja necessário aplicar operação morfológica    \n",
    "#    kernel = np.ones((1,1), np.uint8)\n",
    "#    maskClosing = cv2.morphologyEx(mask, cv2.MORPH_CLOSE, kernel)\n",
    "    \n",
    "    # Encontrando os contornos\n",
    "    _,cnts,_ = cv2.findContours(mask, cv2.RETR_EXTERNAL, cv2.CHAIN_APPROX_SIMPLE)\n",
    "    \n",
    "    # Encontrando o círculo de maior área\n",
    "    if len(cnts) > 0:\n",
    "        c = max(cnts, key=cv2.contourArea)\n",
    "        ((x, y), radius) = cv2.minEnclosingCircle(c)\n",
    "        center = (int(x), int(y))\n",
    "    \n",
    "    # Desenhando a circunferência e o centro\n",
    "    cv2.circle(frame, center, int(radius), (0, 0, 255), 2)\n",
    "    cv2.circle(frame, center, 1, (0, 0, 255), 5)\n",
    "    cv2.imshow(\"Frame\", frame)\n",
    "    \n",
    "    k = cv2.waitKey(5) & 0xFF\n",
    "    if k == 27:\n",
    "        break\n",
    "    \n",
    "cv2.destroyAllWindows()"
   ]
  },
  {
   "cell_type": "code",
   "execution_count": null,
   "metadata": {},
   "outputs": [],
   "source": []
  }
 ],
 "metadata": {
  "kernelspec": {
   "display_name": "Python 3",
   "language": "python",
   "name": "python3"
  },
  "language_info": {
   "codemirror_mode": {
    "name": "ipython",
    "version": 3
   },
   "file_extension": ".py",
   "mimetype": "text/x-python",
   "name": "python",
   "nbconvert_exporter": "python",
   "pygments_lexer": "ipython3",
   "version": "3.6.8"
  }
 },
 "nbformat": 4,
 "nbformat_minor": 2
}
