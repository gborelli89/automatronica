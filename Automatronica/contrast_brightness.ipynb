{
 "cells": [
  {
   "cell_type": "markdown",
   "metadata": {},
   "source": [
    "# Brilho e contraste\n",
    "\n",
    "Podemos considerar brilho e contraste como operações que ocorrem em cada pixel da seguinte forma:\n",
    "\n",
    "$$ g(i,j) = \\alpha \\cdot f(i,j) + \\beta $$\n",
    "\n",
    "sendo que \n",
    "\n",
    "* $\\alpha$ é o ganho, maior que zero, parâmetro que controla o contraste\n",
    "* $\\beta$ é o *bias*, parâmetro que controla o brilho\n",
    "\n",
    "Nas transformações que agem diretamente em cada pixel podemos aplicar uma sequência de *loops* (*for*), contudo a biblioteca OpenCV nos oferece formas mais eficientes.\n",
    "\n",
    "### Carregando os pacotes necessários"
   ]
  },
  {
   "cell_type": "code",
   "execution_count": 1,
   "metadata": {},
   "outputs": [],
   "source": [
    "import cv2\n",
    "import numpy as np"
   ]
  },
  {
   "cell_type": "markdown",
   "metadata": {},
   "source": [
    "### Aplicando uma série de *loops* para a transformação no pixel"
   ]
  },
  {
   "cell_type": "code",
   "execution_count": 9,
   "metadata": {},
   "outputs": [],
   "source": [
    "# Lendo uma imagem subexposta\n",
    "im = cv2.imread(\"other_pic/building.png\")\n",
    "\n",
    "# Parâmetros alpha e beta\n",
    "alpha = 1.8\n",
    "beta = 30\n",
    "\n",
    "# Criando estrutura para a imagem modificada\n",
    "mod_im = np.zeros(im.shape, im.dtype)\n",
    "\n",
    "for y in range(im.shape[0]):\n",
    "    for x in range(im.shape[1]):\n",
    "        for c in range(im.shape[2]):\n",
    "            mod_im[y,x,c] = np.clip(alpha*im[y,x,c]+beta, 0, 255)\n",
    "\n",
    "cv2.imshow(\"Original\", im)\n",
    "cv2.imshow(\"Modificada\", mod_im)\n",
    "cv2.waitKey(0)\n",
    "cv2.destroyAllWindows()"
   ]
  },
  {
   "cell_type": "markdown",
   "metadata": {},
   "source": [
    "### Uma forma mais eficiente utilizando a biblioteca OpenCV\n",
    "\n",
    "A biblioteca OpenCV possui uma forma mais eficiente para a transformação desejada, por meio da função *convertScaleAbs()*.\n",
    "\n",
    "Uma dica é evitar loops do tipo *for* e *if* nos algoritmos desenvolvidos. Essas soluções em linguagens como *Python* e *R* tendem a ser pouco eficientes."
   ]
  },
  {
   "cell_type": "code",
   "execution_count": 12,
   "metadata": {},
   "outputs": [],
   "source": [
    "# Lendo a imagem\n",
    "im = cv2.imread(\"other_pic/building.png\")\n",
    "\n",
    "# Parâmetros alpha e beta\n",
    "alpha = 2.0\n",
    "beta = 60\n",
    "\n",
    "# Aplicando transformação \n",
    "mod_im = cv2.convertScaleAbs(im, alpha=alpha, beta=beta)\n",
    "\n",
    "cv2.imshow(\"Original\", im)\n",
    "cv2.imshow(\"Modificada\", mod_im)\n",
    "cv2.waitKey(0)\n",
    "cv2.destroyAllWindows()"
   ]
  },
  {
   "cell_type": "code",
   "execution_count": null,
   "metadata": {},
   "outputs": [],
   "source": []
  }
 ],
 "metadata": {
  "kernelspec": {
   "display_name": "Python 3",
   "language": "python",
   "name": "python3"
  },
  "language_info": {
   "codemirror_mode": {
    "name": "ipython",
    "version": 3
   },
   "file_extension": ".py",
   "mimetype": "text/x-python",
   "name": "python",
   "nbconvert_exporter": "python",
   "pygments_lexer": "ipython3",
   "version": "3.6.8"
  }
 },
 "nbformat": 4,
 "nbformat_minor": 2
}
